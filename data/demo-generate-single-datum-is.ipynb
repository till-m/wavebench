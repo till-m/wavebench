{
 "cells": [
  {
   "cell_type": "code",
   "execution_count": 5,
   "metadata": {},
   "outputs": [],
   "source": [
    "\"\"\" Generate data for RTC dataset.\"\"\"\n",
    "import os\n",
    "import cv2\n",
    "import numpy as np\n",
    "import ml_collections\n",
    "from tqdm import tqdm\n",
    "\n",
    "import jax\n",
    "from jax import jit\n",
    "from jax import numpy as jnp\n",
    "from jwave import FourierSeries\n",
    "from jwave.utils import load_image_to_numpy\n",
    "from jwave.acoustics import simulate_wave_propagation\n",
    "from jwave.geometry import Medium, Domain, TimeAxis\n",
    "\n",
    "from wavebench import wavebench_dataset_path\n",
    "\n",
    "jax.default_device = jax.devices(\"gpu\")[1]\n",
    "\n",
    "\n",
    "thick_lines_data_path = os.path.join(\n",
    "    wavebench_dataset_path, \"time_varying/thick_lines\")\n",
    "\n",
    "config = ml_collections\n",
    "config.domain_sidelen = 512\n",
    "config.domain_dx = 2\n",
    "\n",
    "config.medium_source_loc = (199, 219)\n",
    "config.medium_density = 2650\n",
    "\n",
    "config.point_mass_strength = -31000\n",
    "config.min_wavespeed = 1400\n",
    "config.max_wavespeed = 4000\n",
    "\n",
    "config.sigmaX = 200\n",
    "config.pml_size = 10\n",
    "\n",
    "\n",
    "domain = Domain(\n",
    "    (config.domain_sidelen, config.domain_sidelen),\n",
    "    (config.domain_dx, config.domain_dx))\n",
    "\n",
    "\n",
    "#  define the properties of the propagation medium\n",
    "z = np.ones((config.domain_sidelen,config.domain_sidelen))\n",
    "z[config.medium_source_loc] = config.point_mass_strength\n",
    "\n",
    "medium_sound_speed = cv2.GaussianBlur(\n",
    "    z,\n",
    "    ksize=(0, 0),\n",
    "    sigmaX=config.sigmaX,\n",
    "    borderType=cv2.BORDER_REPLICATE)\n",
    "\n",
    "medium_sound_speed -= medium_sound_speed.min()\n",
    "medium_sound_speed /= medium_sound_speed.max()\n",
    "\n",
    "medium_sound_speed = medium_sound_speed*(\n",
    "  config.max_wavespeed - config.min_wavespeed) + config.min_wavespeed\n",
    "\n",
    "medium = Medium(domain=domain, sound_speed=medium_sound_speed[..., np.newaxis])\n",
    "medium.density = config.medium_density\n",
    "medium.pml_size = config.pml_size\n",
    "\n",
    "time_axis = TimeAxis.from_medium(medium, cfl=0.3, t_end=0.2)\n",
    "\n",
    "def sensor_func(p, u, rho):\n",
    "  return p.on_grid[medium.pml_size, ...].squeeze()\n",
    "\n",
    "@jit\n",
    "def get_data_from_sensors(medium, initial_pressure):\n",
    "  records = simulate_wave_propagation(\n",
    "      medium, time_axis, p0=initial_pressure, sensors=sensor_func)\n",
    "  return records\n"
   ]
  },
  {
   "cell_type": "code",
   "execution_count": 7,
   "metadata": {},
   "outputs": [],
   "source": [
    "\n",
    "name_list = os.listdir(thick_lines_data_path)\n",
    "num_data = len(name_list)\n",
    "\n",
    "# https://vmascagn.web.cern.ch/vmascagn/LABO_2020/numpy-memmap_for_ghost_imaging.html\n",
    "is_dataset = os.path.join(wavebench_dataset_path, \"time_varying/is\")\n",
    "\n",
    "resized_len = config.domain_sidelen//2\n",
    "\n",
    "# initial_pressure_dataset = np.memmap(\n",
    "#     f'{is_dataset}/initial_pressure_dataset.npy', mode='w+',\n",
    "#     shape=(num_data, config.domain_sidelen, config.domain_sidelen),\n",
    "#            dtype=np.float32)\n",
    "# boundary_measurement_dataset = np.memmap(\n",
    "#     f'{is_dataset}/boundary_measurement_dataset.npy', mode='w+',\n",
    "#     shape=(num_data, int(time_axis.Nt), config.domain_sidelen),\n",
    "#            dtype=np.float32)\n",
    "\n",
    "# for (idx, image) in enumerate(tqdm(name_list)):\n",
    "idx = 0\n",
    "image = name_list[idx]\n",
    "\n",
    "image_array = load_image_to_numpy(\n",
    "    f\"{thick_lines_data_path}/{image}\",\n",
    "    image_size=(config.domain_sidelen, config.domain_sidelen))/255\n",
    "# initial_pressure_dataset[idx, ...] = image_array\n",
    "# initial_pressure_dataset.flush()\n",
    "initial_pressure = np.zeros_like(image_array)\n",
    "resized_img = jax.image.resize(\n",
    "    image_array,\n",
    "    (resized_len, resized_len),\n",
    "    method='bicubic')\n",
    "\n",
    "initial_pressure[\n",
    "  :resized_len, resized_len//2: resized_len//2 + resized_len] = resized_img\n",
    "initial_pressure = jnp.expand_dims(initial_pressure, -1)\n",
    "initial_pressure = FourierSeries(initial_pressure, domain)\n",
    "\n",
    "measurements = get_data_from_sensors(medium, initial_pressure)\n",
    "# boundary_measurement_dataset[idx, ...] = measurements\n",
    "# boundary_measurement_dataset.flush()"
   ]
  },
  {
   "cell_type": "code",
   "execution_count": 9,
   "metadata": {},
   "outputs": [
    {
     "data": {
      "text/plain": [
       "(512, 512)"
      ]
     },
     "execution_count": 9,
     "metadata": {},
     "output_type": "execute_result"
    }
   ],
   "source": [
    "image_array.shape"
   ]
  },
  {
   "attachments": {},
   "cell_type": "markdown",
   "metadata": {},
   "source": [
    "## Load saved image datasets"
   ]
  },
  {
   "cell_type": "code",
   "execution_count": 1,
   "metadata": {},
   "outputs": [],
   "source": [
    "# import numpy as np\n",
    "# import os\n",
    "# from wavebench import wavebench_dataset_path\n",
    "# import matplotlib.pyplot as plt\n",
    "# rtc_dataset = os.path.join(wavebench_dataset_path, \"time_varying/rtc\")\n",
    "# initial_pressure_dataset = np.memmap(\n",
    "#     f'{rtc_dataset}/initial_pressure_dataset.npy', mode='r',\n",
    "#     shape=(3000, 512, 512), dtype=np.float32)\n",
    "\n",
    "# final_pressure_dataset = np.memmap(\n",
    "#     f'{rtc_dataset}/final_pressure_dataset.npy', mode='r',\n",
    "#     shape=(3000, 512, 512), dtype=np.float32)\n"
   ]
  },
  {
   "cell_type": "code",
   "execution_count": 12,
   "metadata": {},
   "outputs": [
    {
     "data": {
      "text/plain": [
       "<matplotlib.image.AxesImage at 0x7f1a12d2a730>"
      ]
     },
     "execution_count": 12,
     "metadata": {},
     "output_type": "execute_result"
    },
    {
     "data": {
      "image/png": "[encoded data removed]",
      "text/plain": [
       "<Figure size 640x480 with 1 Axes>"
      ]
     },
     "metadata": {},
     "output_type": "display_data"
    }
   ],
   "source": [
    "plt.imshow(np.array(final_pressure_dataset)[42] )"
   ]
  },
  {
   "cell_type": "code",
   "execution_count": 4,
   "metadata": {},
   "outputs": [],
   "source": [
    "np.array(final_pressure_dataset).shape"
   ]
  },
  {
   "cell_type": "code",
   "execution_count": 13,
   "metadata": {},
   "outputs": [],
   "source": []
  },
  {
   "cell_type": "code",
   "execution_count": 14,
   "metadata": {},
   "outputs": [],
   "source": []
  },
  {
   "cell_type": "code",
   "execution_count": 15,
   "metadata": {},
   "outputs": [],
   "source": []
  }
 ],
 "metadata": {
  "kernelspec": {
   "display_name": "wavebench",
   "language": "python",
   "name": "python3"
  },
  "language_info": {
   "codemirror_mode": {
    "name": "ipython",
    "version": 3
   },
   "file_extension": ".py",
   "mimetype": "text/x-python",
   "name": "python",
   "nbconvert_exporter": "python",
   "pygments_lexer": "ipython3",
   "version": "3.9.16"
  },
  "orig_nbformat": 4
 },
 "nbformat": 4,
 "nbformat_minor": 2
}
