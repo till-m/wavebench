{
 "cells": [
  {
   "cell_type": "code",
   "execution_count": 1,
   "metadata": {},
   "outputs": [
    {
     "name": "stdout",
     "output_type": "stream",
     "text": [
      "saved to /home/liu0003/Desktop/projects/wavebench/wavebench_dataset/time_varying/thick_lines\n"
     ]
    }
   ],
   "source": [
    "\"\"\"Generate thick lines\"\"\"\n",
    "import os\n",
    "import numpy as np\n",
    "import imageio\n",
    "from tqdm import tqdm\n",
    "from wavebench import wavebench_dataset_path\n",
    "from wavebench import utils\n",
    "import matplotlib.pyplot as plt\n",
    "\n",
    "data_path = os.path.join(wavebench_dataset_path, \"time_varying/thick_lines\")\n",
    "\n",
    "if not os.path.exists(data_path):\n",
    "  os.makedirs(data_path)\n",
    "\n",
    "print(f'saved to {data_path}')\n",
    "\n"
   ]
  },
  {
   "cell_type": "code",
   "execution_count": 6,
   "metadata": {},
   "outputs": [],
   "source": [
    "\n",
    "# def generate_random_lines_dataset(num_data):\n",
    "\"\"\"Generate thick lines\"\"\"\n",
    "n = 512\n",
    "n_seg_min = 5 #1\n",
    "n_seg_max = 10 #5\n",
    "min_length = 50\n",
    "max_length = 100\n",
    "min_width = 20\n",
    "max_width = 40 #12\n",
    "min_amp = .2\n",
    "\n",
    "# utils.seed_everything(42)\n",
    "\n",
    "# for k in tqdm(range(num_data)):\n",
    "k = 0\n",
    "\n",
    "utils.seed_everything(k)\n",
    "\n",
    "n_range = np.arange(n)\n",
    "xv, yv = np.meshgrid(n_range, n_range)\n",
    "gp = np.vstack((xv.reshape(1, n**2), yv.reshape(1, n**2)))\n",
    "n_seg = int(np.random.rand()*(n_seg_max-n_seg_min)) + n_seg_min\n",
    "\n",
    "f = np.zeros((n, n))\n",
    "\n",
    "for _ in range(n_seg):\n",
    "\n",
    "    center = np.floor(np.random.rand(2, 1) * n)\n",
    "    angle = np.random.rand(1) * np.pi\n",
    "    unit_dir = np.array([np.cos(angle), np.sin(angle)])\n",
    "    unit_ort = np.array([-np.sin(angle), np.cos(angle)])\n",
    "    length = np.random.rand(1) * (max_length - min_length) + min_length\n",
    "    width = np.random.rand(1) * (max_width - min_width) + min_width\n",
    "    xi1 = np.dot(unit_dir.T, gp - center)\n",
    "    xi2 = np.dot(unit_ort.T, gp - center)\n",
    "    idx = (np.abs(xi1) <= length / 2) & (np.abs(xi2) <= width / 2)\n",
    "    amp = np.random.rand(1) * (1 - min_amp) + min_amp\n",
    "    f += amp * idx.astype(float).reshape((n, n))\n",
    "\n",
    "# imageio.imwrite(\n",
    "#     os.path.join(f'{data_path}/{k}.png'), (f * 255).astype(np.uint8))\n",
    "#   return None\n",
    "# if __name__ == '__main__':\n",
    "#   generate_random_lines_dataset(3000)"
   ]
  },
  {
   "cell_type": "code",
   "execution_count": 7,
   "metadata": {},
   "outputs": [
    {
     "data": {
      "text/plain": [
       "85.33333333333333"
      ]
     },
     "execution_count": 7,
     "metadata": {},
     "output_type": "execute_result"
    }
   ],
   "source": [
    "512 / 6"
   ]
  },
  {
   "cell_type": "code",
   "execution_count": 8,
   "metadata": {},
   "outputs": [
    {
     "data": {
      "text/plain": [
       "<matplotlib.image.AxesImage at 0x7fbd4921a250>"
      ]
     },
     "execution_count": 8,
     "metadata": {},
     "output_type": "execute_result"
    },
    {
     "data": {
      "image/png": "[encoded data removed]",
      "text/plain": [
       "<Figure size 640x480 with 1 Axes>"
      ]
     },
     "metadata": {},
     "output_type": "display_data"
    }
   ],
   "source": [
    "plt.imshow(f)"
   ]
  },
  {
   "cell_type": "code",
   "execution_count": null,
   "metadata": {},
   "outputs": [],
   "source": []
  }
 ],
 "metadata": {
  "kernelspec": {
   "display_name": "wave",
   "language": "python",
   "name": "python3"
  },
  "language_info": {
   "codemirror_mode": {
    "name": "ipython",
    "version": 3
   },
   "file_extension": ".py",
   "mimetype": "text/x-python",
   "name": "python",
   "nbconvert_exporter": "python",
   "pygments_lexer": "ipython3",
   "version": "3.9.16"
  },
  "orig_nbformat": 4
 },
 "nbformat": 4,
 "nbformat_minor": 2
}
