{
 "cells": [
  {
   "cell_type": "code",
   "execution_count": 1,
   "metadata": {},
   "outputs": [],
   "source": [
    "import os\n",
    "import torch\n",
    "import numpy as np\n",
    "from einops import rearrange\n",
    "import ffcv\n",
    "from ffcv.writer import DatasetWriter\n",
    "from ffcv.fields import NDArrayField, FloatField\n",
    "\n",
    "from wavebench.dataloaders.rtc_loader import RtcDataset\n",
    "from wavebench.dataloaders.is_loader import IsDataset\n",
    "\n",
    "from wavebench import wavebench_dataset_path\n",
    "import torch\n",
    "import numpy as np\n",
    "\n",
    "\n",
    "# problem = 'is'\n",
    "# dataset_name='thick_lines'\n",
    "# medium_type='gaussian_lens'\n",
    "\n",
    "for problem in ['rtc', 'is']:\n",
    "  for dataset_name in ['thick_lines', 'mnist']:\n",
    "    for medium_type in ['gaussian_lens', 'grf_anisotropic', 'grf_isotropic']:\n",
    "      print(problem, dataset_name, medium_type)\n",
    "      if problem == 'rtc':\n",
    "        dataset_path = os.path.join(wavebench_dataset_path, \"time_varying/rtc\")\n",
    "        dataset = RtcDataset(\n",
    "          dataset_name=dataset_name,\n",
    "          medium_type=medium_type,\n",
    "          numpy=True)\n",
    "      elif problem == 'is':\n",
    "        dataset_path = os.path.join(wavebench_dataset_path, \"time_varying/is\")\n",
    "        dataset = IsDataset(\n",
    "          dataset_name=dataset_name,\n",
    "          medium_type=medium_type,\n",
    "          numpy=True)\n",
    "\n",
    "      write_path = f'{dataset_path}/{dataset_name}_{medium_type}.beton'\n",
    "      writer = DatasetWriter(write_path, {\n",
    "          'input': NDArrayField(shape=(1, 128, 128), dtype=np.dtype('float32')),\n",
    "          'target': NDArrayField(shape=(1, 128, 128), dtype=np.dtype('float32')),\n",
    "          }, num_workers=12)\n",
    "\n",
    "      writer.from_indexed_dataset(dataset)\n"
   ]
  },
  {
   "cell_type": "code",
   "execution_count": 2,
   "metadata": {},
   "outputs": [
    {
     "name": "stdout",
     "output_type": "stream",
     "text": [
      "rtc thick_lines gaussian_lens\n"
     ]
    },
    {
     "name": "stderr",
     "output_type": "stream",
     "text": [
      "100%|██████████| 10000/10000 [00:01<00:00, 7628.75it/s]\n"
     ]
    },
    {
     "name": "stdout",
     "output_type": "stream",
     "text": [
      "rtc thick_lines grf_anisotropic\n"
     ]
    },
    {
     "name": "stderr",
     "output_type": "stream",
     "text": [
      "100%|██████████| 10000/10000 [00:01<00:00, 8266.45it/s]\n"
     ]
    },
    {
     "name": "stdout",
     "output_type": "stream",
     "text": [
      "rtc thick_lines grf_isotropic\n"
     ]
    },
    {
     "name": "stderr",
     "output_type": "stream",
     "text": [
      "100%|██████████| 10000/10000 [00:01<00:00, 8269.01it/s]\n"
     ]
    },
    {
     "name": "stdout",
     "output_type": "stream",
     "text": [
      "rtc mnist gaussian_lens\n"
     ]
    },
    {
     "name": "stderr",
     "output_type": "stream",
     "text": [
      "100%|██████████| 50/50 [00:00<00:00, 497.45it/s]"
     ]
    },
    {
     "name": "stdout",
     "output_type": "stream",
     "text": [
      "rtc mnist grf_anisotropic\n"
     ]
    },
    {
     "name": "stderr",
     "output_type": "stream",
     "text": [
      "\n",
      "100%|██████████| 50/50 [00:00<00:00, 497.84it/s]"
     ]
    },
    {
     "name": "stdout",
     "output_type": "stream",
     "text": [
      "rtc mnist grf_isotropic\n"
     ]
    },
    {
     "name": "stderr",
     "output_type": "stream",
     "text": [
      "\n",
      "100%|██████████| 50/50 [00:00<00:00, 497.89it/s]\n"
     ]
    },
    {
     "name": "stdout",
     "output_type": "stream",
     "text": [
      "is thick_lines gaussian_lens\n"
     ]
    },
    {
     "name": "stderr",
     "output_type": "stream",
     "text": [
      "100%|██████████| 10000/10000 [00:01<00:00, 8258.02it/s]\n"
     ]
    },
    {
     "name": "stdout",
     "output_type": "stream",
     "text": [
      "is thick_lines grf_anisotropic\n"
     ]
    },
    {
     "name": "stderr",
     "output_type": "stream",
     "text": [
      "100%|██████████| 10000/10000 [00:01<00:00, 7633.74it/s]\n"
     ]
    },
    {
     "name": "stdout",
     "output_type": "stream",
     "text": [
      "is thick_lines grf_isotropic\n"
     ]
    },
    {
     "name": "stderr",
     "output_type": "stream",
     "text": [
      "100%|██████████| 10000/10000 [00:01<00:00, 8256.53it/s]\n"
     ]
    },
    {
     "name": "stdout",
     "output_type": "stream",
     "text": [
      "is mnist gaussian_lens\n"
     ]
    },
    {
     "name": "stderr",
     "output_type": "stream",
     "text": [
      "100%|██████████| 50/50 [00:00<00:00, 497.77it/s]\n"
     ]
    },
    {
     "name": "stdout",
     "output_type": "stream",
     "text": [
      "is mnist grf_anisotropic\n"
     ]
    },
    {
     "name": "stderr",
     "output_type": "stream",
     "text": [
      "100%|██████████| 50/50 [00:00<00:00, 497.57it/s]"
     ]
    },
    {
     "name": "stdout",
     "output_type": "stream",
     "text": [
      "is mnist grf_isotropic\n"
     ]
    },
    {
     "name": "stderr",
     "output_type": "stream",
     "text": [
      "\n",
      "100%|██████████| 50/50 [00:00<00:00, 497.59it/s]\n"
     ]
    }
   ],
   "source": []
  }
 ],
 "metadata": {
  "kernelspec": {
   "display_name": "ffcv",
   "language": "python",
   "name": "python3"
  },
  "language_info": {
   "codemirror_mode": {
    "name": "ipython",
    "version": 3
   },
   "file_extension": ".py",
   "mimetype": "text/x-python",
   "name": "python",
   "nbconvert_exporter": "python",
   "pygments_lexer": "ipython3",
   "version": "3.9.16"
  },
  "orig_nbformat": 4
 },
 "nbformat": 4,
 "nbformat_minor": 2
}
