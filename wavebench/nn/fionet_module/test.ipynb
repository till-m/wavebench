{
 "cells": [
  {
   "cell_type": "code",
   "execution_count": 1,
   "metadata": {},
   "outputs": [],
   "source": [
    "from wavebench.nn.fionet_module.fionet import FIONet\n",
    "import torch"
   ]
  },
  {
   "cell_type": "code",
   "execution_count": 2,
   "metadata": {},
   "outputs": [],
   "source": [
    "model = FIONet(\n",
    "  sidelen=128,\n",
    "  siren_latent_dim=512,\n",
    "  siren_num_layers=3,\n",
    "  use_two_routers=False,\n",
    "  # n_output_channels=2,\n",
    "  keep_only_curvelet_middle_scales=True)"
   ]
  },
  {
   "cell_type": "code",
   "execution_count": null,
   "metadata": {},
   "outputs": [],
   "source": [
    "model."
   ]
  },
  {
   "cell_type": "code",
   "execution_count": 9,
   "metadata": {},
   "outputs": [
    {
     "name": "stdout",
     "output_type": "stream",
     "text": [
      "True\n",
      "True\n",
      "True\n",
      "True\n",
      "True\n",
      "True\n",
      "True\n",
      "True\n",
      "True\n",
      "True\n",
      "True\n",
      "True\n",
      "True\n",
      "True\n",
      "True\n",
      "True\n",
      "True\n",
      "True\n",
      "True\n",
      "True\n",
      "True\n",
      "True\n",
      "True\n",
      "True\n",
      "True\n",
      "True\n",
      "True\n",
      "True\n",
      "True\n",
      "True\n",
      "True\n",
      "True\n",
      "True\n",
      "True\n",
      "True\n",
      "True\n",
      "True\n",
      "True\n",
      "True\n",
      "True\n",
      "True\n",
      "True\n",
      "True\n",
      "True\n",
      "True\n",
      "True\n",
      "True\n",
      "True\n",
      "True\n",
      "True\n",
      "True\n",
      "True\n",
      "True\n",
      "True\n",
      "True\n",
      "True\n",
      "True\n",
      "True\n",
      "True\n",
      "True\n",
      "True\n",
      "True\n",
      "True\n",
      "True\n"
     ]
    }
   ],
   "source": [
    "# model.unet.requires_grad\n",
    "\n",
    "for param in model.unet.parameters():\n",
    "    print(param.requires_grad) #= False"
   ]
  },
  {
   "cell_type": "code",
   "execution_count": 10,
   "metadata": {},
   "outputs": [
    {
     "data": {
      "text/plain": [
       "8306450"
      ]
     },
     "execution_count": 10,
     "metadata": {},
     "output_type": "execute_result"
    }
   ],
   "source": [
    "def count_parameters(model):\n",
    "  return sum(p.numel() for p in model.parameters() if p.requires_grad)\n",
    "\n",
    "count_parameters(model)"
   ]
  },
  {
   "cell_type": "code",
   "execution_count": 7,
   "metadata": {},
   "outputs": [
    {
     "data": {
      "text/plain": [
       "tensor([[[[-4.5369, -4.8446, -4.6372,  ..., -4.0691, -4.2670, -3.8775],\n",
       "          [-5.0031, -5.2786, -5.2006,  ..., -3.8838, -3.6814, -3.5254],\n",
       "          [-5.4720, -5.6998, -5.3461,  ..., -3.5049, -3.0588, -2.6046],\n",
       "          ...,\n",
       "          [-2.9210, -3.0373, -2.9962,  ..., -5.9946, -5.5207, -5.0059],\n",
       "          [-3.0660, -2.9562, -2.7154,  ..., -5.3606, -4.8335, -4.6377],\n",
       "          [-3.3295, -3.1532, -2.7822,  ..., -4.7666, -4.4690, -3.9434]]],\n",
       "\n",
       "\n",
       "        [[[-5.2193, -4.4827, -4.2167,  ..., -5.3460, -4.2097, -3.0146],\n",
       "          [-6.0121, -5.6940, -5.5551,  ..., -5.2650, -4.3928, -3.1712],\n",
       "          [-6.4283, -6.5040, -6.6018,  ..., -4.8081, -4.0218, -3.0496],\n",
       "          ...,\n",
       "          [-4.1066, -4.4619, -4.7951,  ..., -3.3905, -3.8305, -4.8190],\n",
       "          [-4.1075, -4.4236, -4.9316,  ..., -4.4612, -4.4466, -4.8293],\n",
       "          [-3.9393, -4.4632, -5.6323,  ..., -5.1979, -4.9086, -4.6762]]],\n",
       "\n",
       "\n",
       "        [[[-2.2398, -2.7221, -3.3563,  ..., -4.6853, -5.2131, -5.2116],\n",
       "          [-2.2648, -3.0440, -3.9133,  ..., -4.4045, -5.2732, -5.5835],\n",
       "          [-2.9114, -3.7236, -4.1128,  ..., -3.6724, -4.7218, -5.1210],\n",
       "          ...,\n",
       "          [-7.1392, -7.3035, -7.3668,  ..., -4.1902, -3.5646, -3.0145],\n",
       "          [-6.2178, -6.0898, -6.3811,  ..., -3.5263, -3.0461, -2.8561],\n",
       "          [-5.4533, -5.2784, -5.9950,  ..., -3.4566, -3.5533, -3.3487]]],\n",
       "\n",
       "\n",
       "        [[[-0.7051,  0.1345,  0.2570,  ..., -1.5057, -1.0778, -0.7440],\n",
       "          [-0.6649, -0.0130, -0.0533,  ..., -1.5177, -0.8108, -0.4042],\n",
       "          [-0.9311, -0.6596, -0.5998,  ..., -1.6288, -0.7950, -0.5442],\n",
       "          ...,\n",
       "          [-5.3795, -5.1959, -5.0048,  ..., -3.2706, -3.7624, -4.1544],\n",
       "          [-3.5555, -3.8316, -3.7595,  ..., -2.7082, -3.4162, -3.5992],\n",
       "          [-2.0275, -2.8530, -3.1730,  ..., -2.5843, -2.8467, -2.7944]]]],\n",
       "       grad_fn=<ReshapeAliasBackward0>)"
      ]
     },
     "execution_count": 7,
     "metadata": {},
     "output_type": "execute_result"
    }
   ],
   "source": [
    "model(torch.randn(4, 1, 128, 128))"
   ]
  },
  {
   "cell_type": "code",
   "execution_count": null,
   "metadata": {},
   "outputs": [],
   "source": []
  }
 ],
 "metadata": {
  "kernelspec": {
   "display_name": "wave",
   "language": "python",
   "name": "python3"
  },
  "language_info": {
   "codemirror_mode": {
    "name": "ipython",
    "version": 3
   },
   "file_extension": ".py",
   "mimetype": "text/x-python",
   "name": "python",
   "nbconvert_exporter": "python",
   "pygments_lexer": "ipython3",
   "version": "3.9.16"
  },
  "orig_nbformat": 4
 },
 "nbformat": 4,
 "nbformat_minor": 2
}
